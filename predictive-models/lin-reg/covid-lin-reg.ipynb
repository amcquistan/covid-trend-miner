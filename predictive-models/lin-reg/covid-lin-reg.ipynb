{
 "metadata": {
  "language_info": {
   "codemirror_mode": {
    "name": "ipython",
    "version": 3
   },
   "file_extension": ".py",
   "mimetype": "text/x-python",
   "name": "python",
   "nbconvert_exporter": "python",
   "pygments_lexer": "ipython3",
   "version": "3.8.6-final"
  },
  "orig_nbformat": 2,
  "kernelspec": {
   "name": "python3",
   "display_name": "Python 3"
  }
 },
 "nbformat": 4,
 "nbformat_minor": 2,
 "cells": [
  {
   "cell_type": "code",
   "execution_count": 1,
   "metadata": {},
   "outputs": [],
   "source": [
    "import os\n",
    "\n",
    "import pandas as pd\n",
    "import numpy as np\n",
    "\n",
    "from dotenv import load_dotenv\n",
    "from sklearn import linear_model\n",
    "from sklearn.model_selection import train_test_split\n",
    "from sqlalchemy import create_engine"
   ]
  },
  {
   "cell_type": "code",
   "execution_count": 2,
   "metadata": {},
   "outputs": [],
   "source": [
    "dotenv_path = os.path.join(\n",
    "    os.path.dirname(os.path.abspath('.')),\n",
    "    '.env'\n",
    ")\n",
    "\n",
    "load_dotenv(dotenv_path, verbose=True)\n",
    "\n",
    "conn_string = os.getenv('DATABASE_URL')\n",
    "\n",
    "engine = create_engine(conn_string)"
   ]
  },
  {
   "cell_type": "code",
   "execution_count": 3,
   "metadata": {},
   "outputs": [],
   "source": [
    "%load_ext sql\n",
    "\n",
    "%sql $conn_string"
   ]
  },
  {
   "cell_type": "code",
   "execution_count": 4,
   "metadata": {},
   "outputs": [],
   "source": [
    "sql = \"\"\"\n",
    "SELECT f.date_id, f.location_id, cases, recoveries, deaths, \n",
    "    cases_100k, testing_rate, hospitalization_rate,\n",
    "    date, year, month, day_of_week, day_of_month,\n",
    "    country, state, city, latitude, longitude, population\n",
    "FROM covid_facts f JOIN date_dim d ON d.date_id = f.date_id\n",
    "JOIN location_dim l ON l.location_id = f.location_id\n",
    "WHERE country = 'US' AND city IS NULL\n",
    "ORDER BY state\n",
    "\"\"\"\n",
    "\n",
    "us_df = pd.read_sql(sql, engine)"
   ]
  },
  {
   "cell_type": "code",
   "execution_count": 5,
   "metadata": {},
   "outputs": [
    {
     "output_type": "execute_result",
     "data": {
      "text/plain": [
       "   date_id  location_id   cases  recoveries  deaths   cases_100k  \\\n",
       "0      247     84000001  149263     64583.0  2506.0  3022.647524   \n",
       "1      316     84000001  256828    168387.0  3711.0  5237.983066   \n",
       "2      284     84000001  193613     81005.0  2967.0  3921.634611   \n",
       "3      287     84000001  197504     81005.0  2987.0  3995.953651   \n",
       "4      201     84000001  101466     37923.0  1768.0  2066.697463   \n",
       "\n",
       "   testing_rate  hospitalization_rate        date  year  month  day_of_week  \\\n",
       "0  21989.380372                   NaN  2020-09-24  2020      9            3   \n",
       "1  32703.701778                   NaN  2020-12-02  2020     12            2   \n",
       "2  27456.704163                   NaN  2020-10-31  2020     10            5   \n",
       "3  27799.257014                   NaN  2020-11-03  2020     11            1   \n",
       "4  15550.116914             11.385122  2020-08-09  2020      8            6   \n",
       "\n",
       "   day_of_month country    state  city  latitude  longitude  population  \n",
       "0            24      US  Alabama  None   32.3182   -86.9023   4903185.0  \n",
       "1             2      US  Alabama  None   32.3182   -86.9023   4903185.0  \n",
       "2            31      US  Alabama  None   32.3182   -86.9023   4903185.0  \n",
       "3             3      US  Alabama  None   32.3182   -86.9023   4903185.0  \n",
       "4             9      US  Alabama  None   32.3182   -86.9023   4903185.0  "
      ],
      "text/html": "<div>\n<style scoped>\n    .dataframe tbody tr th:only-of-type {\n        vertical-align: middle;\n    }\n\n    .dataframe tbody tr th {\n        vertical-align: top;\n    }\n\n    .dataframe thead th {\n        text-align: right;\n    }\n</style>\n<table border=\"1\" class=\"dataframe\">\n  <thead>\n    <tr style=\"text-align: right;\">\n      <th></th>\n      <th>date_id</th>\n      <th>location_id</th>\n      <th>cases</th>\n      <th>recoveries</th>\n      <th>deaths</th>\n      <th>cases_100k</th>\n      <th>testing_rate</th>\n      <th>hospitalization_rate</th>\n      <th>date</th>\n      <th>year</th>\n      <th>month</th>\n      <th>day_of_week</th>\n      <th>day_of_month</th>\n      <th>country</th>\n      <th>state</th>\n      <th>city</th>\n      <th>latitude</th>\n      <th>longitude</th>\n      <th>population</th>\n    </tr>\n  </thead>\n  <tbody>\n    <tr>\n      <th>0</th>\n      <td>247</td>\n      <td>84000001</td>\n      <td>149263</td>\n      <td>64583.0</td>\n      <td>2506.0</td>\n      <td>3022.647524</td>\n      <td>21989.380372</td>\n      <td>NaN</td>\n      <td>2020-09-24</td>\n      <td>2020</td>\n      <td>9</td>\n      <td>3</td>\n      <td>24</td>\n      <td>US</td>\n      <td>Alabama</td>\n      <td>None</td>\n      <td>32.3182</td>\n      <td>-86.9023</td>\n      <td>4903185.0</td>\n    </tr>\n    <tr>\n      <th>1</th>\n      <td>316</td>\n      <td>84000001</td>\n      <td>256828</td>\n      <td>168387.0</td>\n      <td>3711.0</td>\n      <td>5237.983066</td>\n      <td>32703.701778</td>\n      <td>NaN</td>\n      <td>2020-12-02</td>\n      <td>2020</td>\n      <td>12</td>\n      <td>2</td>\n      <td>2</td>\n      <td>US</td>\n      <td>Alabama</td>\n      <td>None</td>\n      <td>32.3182</td>\n      <td>-86.9023</td>\n      <td>4903185.0</td>\n    </tr>\n    <tr>\n      <th>2</th>\n      <td>284</td>\n      <td>84000001</td>\n      <td>193613</td>\n      <td>81005.0</td>\n      <td>2967.0</td>\n      <td>3921.634611</td>\n      <td>27456.704163</td>\n      <td>NaN</td>\n      <td>2020-10-31</td>\n      <td>2020</td>\n      <td>10</td>\n      <td>5</td>\n      <td>31</td>\n      <td>US</td>\n      <td>Alabama</td>\n      <td>None</td>\n      <td>32.3182</td>\n      <td>-86.9023</td>\n      <td>4903185.0</td>\n    </tr>\n    <tr>\n      <th>3</th>\n      <td>287</td>\n      <td>84000001</td>\n      <td>197504</td>\n      <td>81005.0</td>\n      <td>2987.0</td>\n      <td>3995.953651</td>\n      <td>27799.257014</td>\n      <td>NaN</td>\n      <td>2020-11-03</td>\n      <td>2020</td>\n      <td>11</td>\n      <td>1</td>\n      <td>3</td>\n      <td>US</td>\n      <td>Alabama</td>\n      <td>None</td>\n      <td>32.3182</td>\n      <td>-86.9023</td>\n      <td>4903185.0</td>\n    </tr>\n    <tr>\n      <th>4</th>\n      <td>201</td>\n      <td>84000001</td>\n      <td>101466</td>\n      <td>37923.0</td>\n      <td>1768.0</td>\n      <td>2066.697463</td>\n      <td>15550.116914</td>\n      <td>11.385122</td>\n      <td>2020-08-09</td>\n      <td>2020</td>\n      <td>8</td>\n      <td>6</td>\n      <td>9</td>\n      <td>US</td>\n      <td>Alabama</td>\n      <td>None</td>\n      <td>32.3182</td>\n      <td>-86.9023</td>\n      <td>4903185.0</td>\n    </tr>\n  </tbody>\n</table>\n</div>"
     },
     "metadata": {},
     "execution_count": 5
    }
   ],
   "source": [
    "us_df.head()"
   ]
  },
  {
   "cell_type": "code",
   "execution_count": 6,
   "metadata": {},
   "outputs": [
    {
     "output_type": "execute_result",
     "data": {
      "text/plain": [
       "            date_id   location_id         cases    recoveries        deaths  \\\n",
       "count  14235.000000  1.423500e+04  1.423500e+04  1.194600e+04  14206.000000   \n",
       "mean     194.334387  7.628753e+07  9.179591e+04  3.901173e+04   2741.854709   \n",
       "std       75.292355  2.425706e+07  1.600239e+05  8.615791e+04   5196.191790   \n",
       "min        1.000000  1.600000e+01  0.000000e+00  0.000000e+00      0.000000   \n",
       "25%      132.000000  8.400001e+07  5.437000e+03  1.573000e+03    121.000000   \n",
       "50%      195.000000  8.400003e+07  3.099500e+04  8.365500e+03    734.000000   \n",
       "75%      259.000000  8.400004e+07  1.105510e+05  4.152750e+04   2978.500000   \n",
       "max      322.000000  8.400006e+07  1.415396e+06  1.050416e+06  35118.000000   \n",
       "\n",
       "         cases_100k   testing_rate  hospitalization_rate     year  \\\n",
       "count  14235.000000   13496.000000           5129.000000  14235.0   \n",
       "mean    1410.292177   22237.818284             12.143891   2020.0   \n",
       "std     1453.418745   22475.224955              5.245396      0.0   \n",
       "min        0.000000       5.391708              1.418440   2020.0   \n",
       "25%      266.184421    5761.788808              8.359942   2020.0   \n",
       "50%      990.979411   15907.304838             11.282093   2020.0   \n",
       "75%     2097.794404   30031.790665             15.268243   2020.0   \n",
       "max    11710.000000  157008.611795             38.501190   2020.0   \n",
       "\n",
       "              month   day_of_week  day_of_month      latitude     longitude  \\\n",
       "count  14235.000000  14235.000000  14235.000000  14235.000000  14235.000000   \n",
       "mean       7.557640      2.991992     15.853109     36.800258    -84.992940   \n",
       "std        2.488042      2.001073      8.688430     10.796215     49.687909   \n",
       "min        1.000000      0.000000      1.000000    -14.271000   -170.132000   \n",
       "25%        6.000000      1.000000      8.000000     33.856900   -105.311100   \n",
       "50%        8.000000      3.000000     16.000000     39.059800    -86.902300   \n",
       "75%       10.000000      5.000000     23.000000     42.230200    -76.802100   \n",
       "max       12.000000      6.000000     31.000000     61.370700    145.673900   \n",
       "\n",
       "         population  \n",
       "count  1.423500e+04  \n",
       "mean   6.024244e+06  \n",
       "std    8.994377e+06  \n",
       "min    5.514400e+04  \n",
       "25%    1.344212e+06  \n",
       "50%    3.565287e+06  \n",
       "75%    7.278717e+06  \n",
       "max    3.294663e+08  "
      ],
      "text/html": "<div>\n<style scoped>\n    .dataframe tbody tr th:only-of-type {\n        vertical-align: middle;\n    }\n\n    .dataframe tbody tr th {\n        vertical-align: top;\n    }\n\n    .dataframe thead th {\n        text-align: right;\n    }\n</style>\n<table border=\"1\" class=\"dataframe\">\n  <thead>\n    <tr style=\"text-align: right;\">\n      <th></th>\n      <th>date_id</th>\n      <th>location_id</th>\n      <th>cases</th>\n      <th>recoveries</th>\n      <th>deaths</th>\n      <th>cases_100k</th>\n      <th>testing_rate</th>\n      <th>hospitalization_rate</th>\n      <th>year</th>\n      <th>month</th>\n      <th>day_of_week</th>\n      <th>day_of_month</th>\n      <th>latitude</th>\n      <th>longitude</th>\n      <th>population</th>\n    </tr>\n  </thead>\n  <tbody>\n    <tr>\n      <th>count</th>\n      <td>14235.000000</td>\n      <td>1.423500e+04</td>\n      <td>1.423500e+04</td>\n      <td>1.194600e+04</td>\n      <td>14206.000000</td>\n      <td>14235.000000</td>\n      <td>13496.000000</td>\n      <td>5129.000000</td>\n      <td>14235.0</td>\n      <td>14235.000000</td>\n      <td>14235.000000</td>\n      <td>14235.000000</td>\n      <td>14235.000000</td>\n      <td>14235.000000</td>\n      <td>1.423500e+04</td>\n    </tr>\n    <tr>\n      <th>mean</th>\n      <td>194.334387</td>\n      <td>7.628753e+07</td>\n      <td>9.179591e+04</td>\n      <td>3.901173e+04</td>\n      <td>2741.854709</td>\n      <td>1410.292177</td>\n      <td>22237.818284</td>\n      <td>12.143891</td>\n      <td>2020.0</td>\n      <td>7.557640</td>\n      <td>2.991992</td>\n      <td>15.853109</td>\n      <td>36.800258</td>\n      <td>-84.992940</td>\n      <td>6.024244e+06</td>\n    </tr>\n    <tr>\n      <th>std</th>\n      <td>75.292355</td>\n      <td>2.425706e+07</td>\n      <td>1.600239e+05</td>\n      <td>8.615791e+04</td>\n      <td>5196.191790</td>\n      <td>1453.418745</td>\n      <td>22475.224955</td>\n      <td>5.245396</td>\n      <td>0.0</td>\n      <td>2.488042</td>\n      <td>2.001073</td>\n      <td>8.688430</td>\n      <td>10.796215</td>\n      <td>49.687909</td>\n      <td>8.994377e+06</td>\n    </tr>\n    <tr>\n      <th>min</th>\n      <td>1.000000</td>\n      <td>1.600000e+01</td>\n      <td>0.000000e+00</td>\n      <td>0.000000e+00</td>\n      <td>0.000000</td>\n      <td>0.000000</td>\n      <td>5.391708</td>\n      <td>1.418440</td>\n      <td>2020.0</td>\n      <td>1.000000</td>\n      <td>0.000000</td>\n      <td>1.000000</td>\n      <td>-14.271000</td>\n      <td>-170.132000</td>\n      <td>5.514400e+04</td>\n    </tr>\n    <tr>\n      <th>25%</th>\n      <td>132.000000</td>\n      <td>8.400001e+07</td>\n      <td>5.437000e+03</td>\n      <td>1.573000e+03</td>\n      <td>121.000000</td>\n      <td>266.184421</td>\n      <td>5761.788808</td>\n      <td>8.359942</td>\n      <td>2020.0</td>\n      <td>6.000000</td>\n      <td>1.000000</td>\n      <td>8.000000</td>\n      <td>33.856900</td>\n      <td>-105.311100</td>\n      <td>1.344212e+06</td>\n    </tr>\n    <tr>\n      <th>50%</th>\n      <td>195.000000</td>\n      <td>8.400003e+07</td>\n      <td>3.099500e+04</td>\n      <td>8.365500e+03</td>\n      <td>734.000000</td>\n      <td>990.979411</td>\n      <td>15907.304838</td>\n      <td>11.282093</td>\n      <td>2020.0</td>\n      <td>8.000000</td>\n      <td>3.000000</td>\n      <td>16.000000</td>\n      <td>39.059800</td>\n      <td>-86.902300</td>\n      <td>3.565287e+06</td>\n    </tr>\n    <tr>\n      <th>75%</th>\n      <td>259.000000</td>\n      <td>8.400004e+07</td>\n      <td>1.105510e+05</td>\n      <td>4.152750e+04</td>\n      <td>2978.500000</td>\n      <td>2097.794404</td>\n      <td>30031.790665</td>\n      <td>15.268243</td>\n      <td>2020.0</td>\n      <td>10.000000</td>\n      <td>5.000000</td>\n      <td>23.000000</td>\n      <td>42.230200</td>\n      <td>-76.802100</td>\n      <td>7.278717e+06</td>\n    </tr>\n    <tr>\n      <th>max</th>\n      <td>322.000000</td>\n      <td>8.400006e+07</td>\n      <td>1.415396e+06</td>\n      <td>1.050416e+06</td>\n      <td>35118.000000</td>\n      <td>11710.000000</td>\n      <td>157008.611795</td>\n      <td>38.501190</td>\n      <td>2020.0</td>\n      <td>12.000000</td>\n      <td>6.000000</td>\n      <td>31.000000</td>\n      <td>61.370700</td>\n      <td>145.673900</td>\n      <td>3.294663e+08</td>\n    </tr>\n  </tbody>\n</table>\n</div>"
     },
     "metadata": {},
     "execution_count": 6
    }
   ],
   "source": [
    "us_df = us_df.loc[pd.notnull(us_df.population)]\n",
    "us_df.describe()"
   ]
  },
  {
   "cell_type": "code",
   "execution_count": 7,
   "metadata": {},
   "outputs": [
    {
     "output_type": "execute_result",
     "data": {
      "text/plain": [
       "        State State Code Region            Division\n",
       "0      Alaska         AK   West             Pacific\n",
       "1     Alabama         AL  South  East South Central\n",
       "2    Arkansas         AR  South  West South Central\n",
       "3     Arizona         AZ   West            Mountain\n",
       "4  California         CA   West             Pacific"
      ],
      "text/html": "<div>\n<style scoped>\n    .dataframe tbody tr th:only-of-type {\n        vertical-align: middle;\n    }\n\n    .dataframe tbody tr th {\n        vertical-align: top;\n    }\n\n    .dataframe thead th {\n        text-align: right;\n    }\n</style>\n<table border=\"1\" class=\"dataframe\">\n  <thead>\n    <tr style=\"text-align: right;\">\n      <th></th>\n      <th>State</th>\n      <th>State Code</th>\n      <th>Region</th>\n      <th>Division</th>\n    </tr>\n  </thead>\n  <tbody>\n    <tr>\n      <th>0</th>\n      <td>Alaska</td>\n      <td>AK</td>\n      <td>West</td>\n      <td>Pacific</td>\n    </tr>\n    <tr>\n      <th>1</th>\n      <td>Alabama</td>\n      <td>AL</td>\n      <td>South</td>\n      <td>East South Central</td>\n    </tr>\n    <tr>\n      <th>2</th>\n      <td>Arkansas</td>\n      <td>AR</td>\n      <td>South</td>\n      <td>West South Central</td>\n    </tr>\n    <tr>\n      <th>3</th>\n      <td>Arizona</td>\n      <td>AZ</td>\n      <td>West</td>\n      <td>Mountain</td>\n    </tr>\n    <tr>\n      <th>4</th>\n      <td>California</td>\n      <td>CA</td>\n      <td>West</td>\n      <td>Pacific</td>\n    </tr>\n  </tbody>\n</table>\n</div>"
     },
     "metadata": {},
     "execution_count": 7
    }
   ],
   "source": [
    "states_df = pd.read_csv('https://raw.githubusercontent.com/cphalpert/census-regions/master/us%20census%20bureau%20regions%20and%20divisions.csv')\n",
    "states_df.head()"
   ]
  },
  {
   "cell_type": "code",
   "execution_count": 8,
   "metadata": {},
   "outputs": [
    {
     "output_type": "execute_result",
     "data": {
      "text/plain": [
       "        state state code region            division\n",
       "0      Alaska         AK   West             Pacific\n",
       "1     Alabama         AL  South  East South Central\n",
       "2    Arkansas         AR  South  West South Central\n",
       "3     Arizona         AZ   West            Mountain\n",
       "4  California         CA   West             Pacific"
      ],
      "text/html": "<div>\n<style scoped>\n    .dataframe tbody tr th:only-of-type {\n        vertical-align: middle;\n    }\n\n    .dataframe tbody tr th {\n        vertical-align: top;\n    }\n\n    .dataframe thead th {\n        text-align: right;\n    }\n</style>\n<table border=\"1\" class=\"dataframe\">\n  <thead>\n    <tr style=\"text-align: right;\">\n      <th></th>\n      <th>state</th>\n      <th>state code</th>\n      <th>region</th>\n      <th>division</th>\n    </tr>\n  </thead>\n  <tbody>\n    <tr>\n      <th>0</th>\n      <td>Alaska</td>\n      <td>AK</td>\n      <td>West</td>\n      <td>Pacific</td>\n    </tr>\n    <tr>\n      <th>1</th>\n      <td>Alabama</td>\n      <td>AL</td>\n      <td>South</td>\n      <td>East South Central</td>\n    </tr>\n    <tr>\n      <th>2</th>\n      <td>Arkansas</td>\n      <td>AR</td>\n      <td>South</td>\n      <td>West South Central</td>\n    </tr>\n    <tr>\n      <th>3</th>\n      <td>Arizona</td>\n      <td>AZ</td>\n      <td>West</td>\n      <td>Mountain</td>\n    </tr>\n    <tr>\n      <th>4</th>\n      <td>California</td>\n      <td>CA</td>\n      <td>West</td>\n      <td>Pacific</td>\n    </tr>\n  </tbody>\n</table>\n</div>"
     },
     "metadata": {},
     "execution_count": 8
    }
   ],
   "source": [
    "states_df = states_df.rename(columns=lambda col: col.lower())\n",
    "states_df.head()"
   ]
  },
  {
   "cell_type": "code",
   "execution_count": 9,
   "metadata": {},
   "outputs": [
    {
     "output_type": "execute_result",
     "data": {
      "text/plain": [
       "array(['West', 'South', 'Northeast', 'Midwest'], dtype=object)"
      ]
     },
     "metadata": {},
     "execution_count": 9
    }
   ],
   "source": [
    "states_df.region.unique()"
   ]
  },
  {
   "cell_type": "code",
   "execution_count": 10,
   "metadata": {},
   "outputs": [
    {
     "output_type": "execute_result",
     "data": {
      "text/plain": [
       "     date_id  location_id  cases  recoveries  deaths  cases_100k  \\\n",
       "103       52     84000001      5         0.0     0.0         5.0   \n",
       "165       53     84000001      6         0.0     0.0         6.0   \n",
       "90        54     84000001     12         0.0     0.0        12.0   \n",
       "134       55     84000001     29         0.0     0.0        29.0   \n",
       "14        56     84000001     39         0.0     0.0        39.0   \n",
       "\n",
       "     testing_rate  hospitalization_rate        date  year  ...  day_of_month  \\\n",
       "103           NaN                   NaN  2020-03-13  2020  ...            13   \n",
       "165           NaN                   NaN  2020-03-14  2020  ...            14   \n",
       "90            NaN                   NaN  2020-03-15  2020  ...            15   \n",
       "134           NaN                   NaN  2020-03-16  2020  ...            16   \n",
       "14            NaN                   NaN  2020-03-17  2020  ...            17   \n",
       "\n",
       "     country    state  city latitude longitude  population  state code  \\\n",
       "103       US  Alabama  None  32.3182  -86.9023   4903185.0          AL   \n",
       "165       US  Alabama  None  32.3182  -86.9023   4903185.0          AL   \n",
       "90        US  Alabama  None  32.3182  -86.9023   4903185.0          AL   \n",
       "134       US  Alabama  None  32.3182  -86.9023   4903185.0          AL   \n",
       "14        US  Alabama  None  32.3182  -86.9023   4903185.0          AL   \n",
       "\n",
       "     region            division  \n",
       "103   South  East South Central  \n",
       "165   South  East South Central  \n",
       "90    South  East South Central  \n",
       "134   South  East South Central  \n",
       "14    South  East South Central  \n",
       "\n",
       "[5 rows x 22 columns]"
      ],
      "text/html": "<div>\n<style scoped>\n    .dataframe tbody tr th:only-of-type {\n        vertical-align: middle;\n    }\n\n    .dataframe tbody tr th {\n        vertical-align: top;\n    }\n\n    .dataframe thead th {\n        text-align: right;\n    }\n</style>\n<table border=\"1\" class=\"dataframe\">\n  <thead>\n    <tr style=\"text-align: right;\">\n      <th></th>\n      <th>date_id</th>\n      <th>location_id</th>\n      <th>cases</th>\n      <th>recoveries</th>\n      <th>deaths</th>\n      <th>cases_100k</th>\n      <th>testing_rate</th>\n      <th>hospitalization_rate</th>\n      <th>date</th>\n      <th>year</th>\n      <th>...</th>\n      <th>day_of_month</th>\n      <th>country</th>\n      <th>state</th>\n      <th>city</th>\n      <th>latitude</th>\n      <th>longitude</th>\n      <th>population</th>\n      <th>state code</th>\n      <th>region</th>\n      <th>division</th>\n    </tr>\n  </thead>\n  <tbody>\n    <tr>\n      <th>103</th>\n      <td>52</td>\n      <td>84000001</td>\n      <td>5</td>\n      <td>0.0</td>\n      <td>0.0</td>\n      <td>5.0</td>\n      <td>NaN</td>\n      <td>NaN</td>\n      <td>2020-03-13</td>\n      <td>2020</td>\n      <td>...</td>\n      <td>13</td>\n      <td>US</td>\n      <td>Alabama</td>\n      <td>None</td>\n      <td>32.3182</td>\n      <td>-86.9023</td>\n      <td>4903185.0</td>\n      <td>AL</td>\n      <td>South</td>\n      <td>East South Central</td>\n    </tr>\n    <tr>\n      <th>165</th>\n      <td>53</td>\n      <td>84000001</td>\n      <td>6</td>\n      <td>0.0</td>\n      <td>0.0</td>\n      <td>6.0</td>\n      <td>NaN</td>\n      <td>NaN</td>\n      <td>2020-03-14</td>\n      <td>2020</td>\n      <td>...</td>\n      <td>14</td>\n      <td>US</td>\n      <td>Alabama</td>\n      <td>None</td>\n      <td>32.3182</td>\n      <td>-86.9023</td>\n      <td>4903185.0</td>\n      <td>AL</td>\n      <td>South</td>\n      <td>East South Central</td>\n    </tr>\n    <tr>\n      <th>90</th>\n      <td>54</td>\n      <td>84000001</td>\n      <td>12</td>\n      <td>0.0</td>\n      <td>0.0</td>\n      <td>12.0</td>\n      <td>NaN</td>\n      <td>NaN</td>\n      <td>2020-03-15</td>\n      <td>2020</td>\n      <td>...</td>\n      <td>15</td>\n      <td>US</td>\n      <td>Alabama</td>\n      <td>None</td>\n      <td>32.3182</td>\n      <td>-86.9023</td>\n      <td>4903185.0</td>\n      <td>AL</td>\n      <td>South</td>\n      <td>East South Central</td>\n    </tr>\n    <tr>\n      <th>134</th>\n      <td>55</td>\n      <td>84000001</td>\n      <td>29</td>\n      <td>0.0</td>\n      <td>0.0</td>\n      <td>29.0</td>\n      <td>NaN</td>\n      <td>NaN</td>\n      <td>2020-03-16</td>\n      <td>2020</td>\n      <td>...</td>\n      <td>16</td>\n      <td>US</td>\n      <td>Alabama</td>\n      <td>None</td>\n      <td>32.3182</td>\n      <td>-86.9023</td>\n      <td>4903185.0</td>\n      <td>AL</td>\n      <td>South</td>\n      <td>East South Central</td>\n    </tr>\n    <tr>\n      <th>14</th>\n      <td>56</td>\n      <td>84000001</td>\n      <td>39</td>\n      <td>0.0</td>\n      <td>0.0</td>\n      <td>39.0</td>\n      <td>NaN</td>\n      <td>NaN</td>\n      <td>2020-03-17</td>\n      <td>2020</td>\n      <td>...</td>\n      <td>17</td>\n      <td>US</td>\n      <td>Alabama</td>\n      <td>None</td>\n      <td>32.3182</td>\n      <td>-86.9023</td>\n      <td>4903185.0</td>\n      <td>AL</td>\n      <td>South</td>\n      <td>East South Central</td>\n    </tr>\n  </tbody>\n</table>\n<p>5 rows × 22 columns</p>\n</div>"
     },
     "metadata": {},
     "execution_count": 10
    }
   ],
   "source": [
    "us2_df = us_df.join(states_df.set_index('state'), on='state').sort_values(['state', 'date'])\n",
    "us2_df.head()"
   ]
  },
  {
   "cell_type": "code",
   "execution_count": 11,
   "metadata": {},
   "outputs": [
    {
     "output_type": "execute_result",
     "data": {
      "text/plain": [
       "     date_id  location_id  cases  recoveries  deaths  cases_100k  \\\n",
       "103       52     84000001      5         0.0     0.0         5.0   \n",
       "165       53     84000001      6         0.0     0.0         6.0   \n",
       "90        54     84000001     12         0.0     0.0        12.0   \n",
       "134       55     84000001     29         0.0     0.0        29.0   \n",
       "14        56     84000001     39         0.0     0.0        39.0   \n",
       "\n",
       "     testing_rate  hospitalization_rate        date  year  ...  country  \\\n",
       "103           NaN                   NaN  2020-03-13  2020  ...       US   \n",
       "165           NaN                   NaN  2020-03-14  2020  ...       US   \n",
       "90            NaN                   NaN  2020-03-15  2020  ...       US   \n",
       "134           NaN                   NaN  2020-03-16  2020  ...       US   \n",
       "14            NaN                   NaN  2020-03-17  2020  ...       US   \n",
       "\n",
       "       state  city latitude longitude population  state code  region  \\\n",
       "103  Alabama  None  32.3182  -86.9023  4903185.0          AL   South   \n",
       "165  Alabama  None  32.3182  -86.9023  4903185.0          AL   South   \n",
       "90   Alabama  None  32.3182  -86.9023  4903185.0          AL   South   \n",
       "134  Alabama  None  32.3182  -86.9023  4903185.0          AL   South   \n",
       "14   Alabama  None  32.3182  -86.9023  4903185.0          AL   South   \n",
       "\n",
       "               division cases_norm100k  \n",
       "103  East South Central       0.101975  \n",
       "165  East South Central       0.122369  \n",
       "90   East South Central       0.244739  \n",
       "134  East South Central       0.591452  \n",
       "14   East South Central       0.795401  \n",
       "\n",
       "[5 rows x 23 columns]"
      ],
      "text/html": "<div>\n<style scoped>\n    .dataframe tbody tr th:only-of-type {\n        vertical-align: middle;\n    }\n\n    .dataframe tbody tr th {\n        vertical-align: top;\n    }\n\n    .dataframe thead th {\n        text-align: right;\n    }\n</style>\n<table border=\"1\" class=\"dataframe\">\n  <thead>\n    <tr style=\"text-align: right;\">\n      <th></th>\n      <th>date_id</th>\n      <th>location_id</th>\n      <th>cases</th>\n      <th>recoveries</th>\n      <th>deaths</th>\n      <th>cases_100k</th>\n      <th>testing_rate</th>\n      <th>hospitalization_rate</th>\n      <th>date</th>\n      <th>year</th>\n      <th>...</th>\n      <th>country</th>\n      <th>state</th>\n      <th>city</th>\n      <th>latitude</th>\n      <th>longitude</th>\n      <th>population</th>\n      <th>state code</th>\n      <th>region</th>\n      <th>division</th>\n      <th>cases_norm100k</th>\n    </tr>\n  </thead>\n  <tbody>\n    <tr>\n      <th>103</th>\n      <td>52</td>\n      <td>84000001</td>\n      <td>5</td>\n      <td>0.0</td>\n      <td>0.0</td>\n      <td>5.0</td>\n      <td>NaN</td>\n      <td>NaN</td>\n      <td>2020-03-13</td>\n      <td>2020</td>\n      <td>...</td>\n      <td>US</td>\n      <td>Alabama</td>\n      <td>None</td>\n      <td>32.3182</td>\n      <td>-86.9023</td>\n      <td>4903185.0</td>\n      <td>AL</td>\n      <td>South</td>\n      <td>East South Central</td>\n      <td>0.101975</td>\n    </tr>\n    <tr>\n      <th>165</th>\n      <td>53</td>\n      <td>84000001</td>\n      <td>6</td>\n      <td>0.0</td>\n      <td>0.0</td>\n      <td>6.0</td>\n      <td>NaN</td>\n      <td>NaN</td>\n      <td>2020-03-14</td>\n      <td>2020</td>\n      <td>...</td>\n      <td>US</td>\n      <td>Alabama</td>\n      <td>None</td>\n      <td>32.3182</td>\n      <td>-86.9023</td>\n      <td>4903185.0</td>\n      <td>AL</td>\n      <td>South</td>\n      <td>East South Central</td>\n      <td>0.122369</td>\n    </tr>\n    <tr>\n      <th>90</th>\n      <td>54</td>\n      <td>84000001</td>\n      <td>12</td>\n      <td>0.0</td>\n      <td>0.0</td>\n      <td>12.0</td>\n      <td>NaN</td>\n      <td>NaN</td>\n      <td>2020-03-15</td>\n      <td>2020</td>\n      <td>...</td>\n      <td>US</td>\n      <td>Alabama</td>\n      <td>None</td>\n      <td>32.3182</td>\n      <td>-86.9023</td>\n      <td>4903185.0</td>\n      <td>AL</td>\n      <td>South</td>\n      <td>East South Central</td>\n      <td>0.244739</td>\n    </tr>\n    <tr>\n      <th>134</th>\n      <td>55</td>\n      <td>84000001</td>\n      <td>29</td>\n      <td>0.0</td>\n      <td>0.0</td>\n      <td>29.0</td>\n      <td>NaN</td>\n      <td>NaN</td>\n      <td>2020-03-16</td>\n      <td>2020</td>\n      <td>...</td>\n      <td>US</td>\n      <td>Alabama</td>\n      <td>None</td>\n      <td>32.3182</td>\n      <td>-86.9023</td>\n      <td>4903185.0</td>\n      <td>AL</td>\n      <td>South</td>\n      <td>East South Central</td>\n      <td>0.591452</td>\n    </tr>\n    <tr>\n      <th>14</th>\n      <td>56</td>\n      <td>84000001</td>\n      <td>39</td>\n      <td>0.0</td>\n      <td>0.0</td>\n      <td>39.0</td>\n      <td>NaN</td>\n      <td>NaN</td>\n      <td>2020-03-17</td>\n      <td>2020</td>\n      <td>...</td>\n      <td>US</td>\n      <td>Alabama</td>\n      <td>None</td>\n      <td>32.3182</td>\n      <td>-86.9023</td>\n      <td>4903185.0</td>\n      <td>AL</td>\n      <td>South</td>\n      <td>East South Central</td>\n      <td>0.795401</td>\n    </tr>\n  </tbody>\n</table>\n<p>5 rows × 23 columns</p>\n</div>"
     },
     "metadata": {},
     "execution_count": 11
    }
   ],
   "source": [
    "us2_df['cases_norm100k'] = us2_df.cases / (us2_df.population / 100_000)\n",
    "us2_df.head()"
   ]
  },
  {
   "cell_type": "code",
   "execution_count": null,
   "metadata": {},
   "outputs": [],
   "source": [
    "us2_df['recoveries_norm100k'] = us2_df.recoveries / round((us2_df.population / 100_000))\n",
    "us2_df.head"
   ]
  },
  {
   "cell_type": "code",
   "execution_count": 15,
   "metadata": {},
   "outputs": [
    {
     "output_type": "execute_result",
     "data": {
      "text/plain": [
       "         date_id  location_id   cases  recoveries  deaths   cases_100k  \\\n",
       "Alabama      234     84000001  136107     54223.0  2333.0  2788.044914   \n",
       "Alabama      234     84000001  136107     54223.0  2333.0  2788.044914   \n",
       "Alabama      234     84000001  136107     54223.0  2333.0  2788.044914   \n",
       "Alabama      234     84000001  136107     54223.0  2333.0  2788.044914   \n",
       "Alabama      234     84000001  136107     54223.0  2333.0  2788.044914   \n",
       "\n",
       "         testing_rate  hospitalization_rate        date  year  ...  city  \\\n",
       "Alabama  20617.659746                   NaN  2020-09-11  2020  ...  None   \n",
       "Alabama  20617.659746                   NaN  2020-09-11  2020  ...  None   \n",
       "Alabama  20617.659746                   NaN  2020-09-11  2020  ...  None   \n",
       "Alabama  20617.659746                   NaN  2020-09-11  2020  ...  None   \n",
       "Alabama  20617.659746                   NaN  2020-09-11  2020  ...  None   \n",
       "\n",
       "         latitude  longitude population Region  Midwest  Northeast  South  \\\n",
       "Alabama   32.3182   -86.9023  4903185.0  South        0          0      1   \n",
       "Alabama   32.3182   -86.9023  4903185.0  South        0          0      1   \n",
       "Alabama   32.3182   -86.9023  4903185.0  South        0          0      1   \n",
       "Alabama   32.3182   -86.9023  4903185.0  South        0          0      1   \n",
       "Alabama   32.3182   -86.9023  4903185.0  South        0          0      1   \n",
       "\n",
       "        West  cases_norm100k  \n",
       "Alabama    0     2775.889549  \n",
       "Alabama    0     2775.889549  \n",
       "Alabama    0     2775.889549  \n",
       "Alabama    0     2775.889549  \n",
       "Alabama    0     2775.889549  \n",
       "\n",
       "[5 rows x 24 columns]"
      ],
      "text/html": "<div>\n<style scoped>\n    .dataframe tbody tr th:only-of-type {\n        vertical-align: middle;\n    }\n\n    .dataframe tbody tr th {\n        vertical-align: top;\n    }\n\n    .dataframe thead th {\n        text-align: right;\n    }\n</style>\n<table border=\"1\" class=\"dataframe\">\n  <thead>\n    <tr style=\"text-align: right;\">\n      <th></th>\n      <th>date_id</th>\n      <th>location_id</th>\n      <th>cases</th>\n      <th>recoveries</th>\n      <th>deaths</th>\n      <th>cases_100k</th>\n      <th>testing_rate</th>\n      <th>hospitalization_rate</th>\n      <th>date</th>\n      <th>year</th>\n      <th>...</th>\n      <th>city</th>\n      <th>latitude</th>\n      <th>longitude</th>\n      <th>population</th>\n      <th>Region</th>\n      <th>Midwest</th>\n      <th>Northeast</th>\n      <th>South</th>\n      <th>West</th>\n      <th>cases_norm100k</th>\n    </tr>\n  </thead>\n  <tbody>\n    <tr>\n      <th>Alabama</th>\n      <td>234</td>\n      <td>84000001</td>\n      <td>136107</td>\n      <td>54223.0</td>\n      <td>2333.0</td>\n      <td>2788.044914</td>\n      <td>20617.659746</td>\n      <td>NaN</td>\n      <td>2020-09-11</td>\n      <td>2020</td>\n      <td>...</td>\n      <td>None</td>\n      <td>32.3182</td>\n      <td>-86.9023</td>\n      <td>4903185.0</td>\n      <td>South</td>\n      <td>0</td>\n      <td>0</td>\n      <td>1</td>\n      <td>0</td>\n      <td>2775.889549</td>\n    </tr>\n    <tr>\n      <th>Alabama</th>\n      <td>234</td>\n      <td>84000001</td>\n      <td>136107</td>\n      <td>54223.0</td>\n      <td>2333.0</td>\n      <td>2788.044914</td>\n      <td>20617.659746</td>\n      <td>NaN</td>\n      <td>2020-09-11</td>\n      <td>2020</td>\n      <td>...</td>\n      <td>None</td>\n      <td>32.3182</td>\n      <td>-86.9023</td>\n      <td>4903185.0</td>\n      <td>South</td>\n      <td>0</td>\n      <td>0</td>\n      <td>1</td>\n      <td>0</td>\n      <td>2775.889549</td>\n    </tr>\n    <tr>\n      <th>Alabama</th>\n      <td>234</td>\n      <td>84000001</td>\n      <td>136107</td>\n      <td>54223.0</td>\n      <td>2333.0</td>\n      <td>2788.044914</td>\n      <td>20617.659746</td>\n      <td>NaN</td>\n      <td>2020-09-11</td>\n      <td>2020</td>\n      <td>...</td>\n      <td>None</td>\n      <td>32.3182</td>\n      <td>-86.9023</td>\n      <td>4903185.0</td>\n      <td>South</td>\n      <td>0</td>\n      <td>0</td>\n      <td>1</td>\n      <td>0</td>\n      <td>2775.889549</td>\n    </tr>\n    <tr>\n      <th>Alabama</th>\n      <td>234</td>\n      <td>84000001</td>\n      <td>136107</td>\n      <td>54223.0</td>\n      <td>2333.0</td>\n      <td>2788.044914</td>\n      <td>20617.659746</td>\n      <td>NaN</td>\n      <td>2020-09-11</td>\n      <td>2020</td>\n      <td>...</td>\n      <td>None</td>\n      <td>32.3182</td>\n      <td>-86.9023</td>\n      <td>4903185.0</td>\n      <td>South</td>\n      <td>0</td>\n      <td>0</td>\n      <td>1</td>\n      <td>0</td>\n      <td>2775.889549</td>\n    </tr>\n    <tr>\n      <th>Alabama</th>\n      <td>234</td>\n      <td>84000001</td>\n      <td>136107</td>\n      <td>54223.0</td>\n      <td>2333.0</td>\n      <td>2788.044914</td>\n      <td>20617.659746</td>\n      <td>NaN</td>\n      <td>2020-09-11</td>\n      <td>2020</td>\n      <td>...</td>\n      <td>None</td>\n      <td>32.3182</td>\n      <td>-86.9023</td>\n      <td>4903185.0</td>\n      <td>South</td>\n      <td>0</td>\n      <td>0</td>\n      <td>1</td>\n      <td>0</td>\n      <td>2775.889549</td>\n    </tr>\n  </tbody>\n</table>\n<p>5 rows × 24 columns</p>\n</div>"
     },
     "metadata": {},
     "execution_count": 15
    }
   ],
   "source": [
    "us2_df.head()"
   ]
  },
  {
   "cell_type": "code",
   "execution_count": 16,
   "metadata": {},
   "outputs": [
    {
     "output_type": "execute_result",
     "data": {
      "text/plain": [
       "   date_id  location_id   cases  recoveries  deaths   cases_100k  \\\n",
       "0      234     84000001  136107     54223.0  2333.0  2788.044914   \n",
       "1      218     84000001  119904     48028.0  2045.0  2432.174189   \n",
       "2      296     84000001  210637     88038.0  3213.0  4295.921936   \n",
       "3      138     84000001   20777     11395.0   692.0   418.095585   \n",
       "4      274     84000001  176605     74439.0  2828.0  3582.854818   \n",
       "\n",
       "   testing_rate  hospitalization_rate        date  year  month  day_of_week  \\\n",
       "0  20617.659746                   NaN  2020-09-11  2020      9            4   \n",
       "1  19246.367412             11.743841  2020-08-26  2020      8            2   \n",
       "2  28993.195239                   NaN  2020-11-12  2020     11            3   \n",
       "3   5293.824320              9.863415  2020-06-07  2020      6            6   \n",
       "4  25973.382607                   NaN  2020-10-21  2020     10            2   \n",
       "\n",
       "   day_of_month country    state  city  latitude  longitude  population  \n",
       "0            11      US  Alabama  None   32.3182   -86.9023   4903185.0  \n",
       "1            26      US  Alabama  None   32.3182   -86.9023   4903185.0  \n",
       "2            12      US  Alabama  None   32.3182   -86.9023   4903185.0  \n",
       "3             7      US  Alabama  None   32.3182   -86.9023   4903185.0  \n",
       "4            21      US  Alabama  None   32.3182   -86.9023   4903185.0  "
      ],
      "text/html": "<div>\n<style scoped>\n    .dataframe tbody tr th:only-of-type {\n        vertical-align: middle;\n    }\n\n    .dataframe tbody tr th {\n        vertical-align: top;\n    }\n\n    .dataframe thead th {\n        text-align: right;\n    }\n</style>\n<table border=\"1\" class=\"dataframe\">\n  <thead>\n    <tr style=\"text-align: right;\">\n      <th></th>\n      <th>date_id</th>\n      <th>location_id</th>\n      <th>cases</th>\n      <th>recoveries</th>\n      <th>deaths</th>\n      <th>cases_100k</th>\n      <th>testing_rate</th>\n      <th>hospitalization_rate</th>\n      <th>date</th>\n      <th>year</th>\n      <th>month</th>\n      <th>day_of_week</th>\n      <th>day_of_month</th>\n      <th>country</th>\n      <th>state</th>\n      <th>city</th>\n      <th>latitude</th>\n      <th>longitude</th>\n      <th>population</th>\n    </tr>\n  </thead>\n  <tbody>\n    <tr>\n      <th>0</th>\n      <td>234</td>\n      <td>84000001</td>\n      <td>136107</td>\n      <td>54223.0</td>\n      <td>2333.0</td>\n      <td>2788.044914</td>\n      <td>20617.659746</td>\n      <td>NaN</td>\n      <td>2020-09-11</td>\n      <td>2020</td>\n      <td>9</td>\n      <td>4</td>\n      <td>11</td>\n      <td>US</td>\n      <td>Alabama</td>\n      <td>None</td>\n      <td>32.3182</td>\n      <td>-86.9023</td>\n      <td>4903185.0</td>\n    </tr>\n    <tr>\n      <th>1</th>\n      <td>218</td>\n      <td>84000001</td>\n      <td>119904</td>\n      <td>48028.0</td>\n      <td>2045.0</td>\n      <td>2432.174189</td>\n      <td>19246.367412</td>\n      <td>11.743841</td>\n      <td>2020-08-26</td>\n      <td>2020</td>\n      <td>8</td>\n      <td>2</td>\n      <td>26</td>\n      <td>US</td>\n      <td>Alabama</td>\n      <td>None</td>\n      <td>32.3182</td>\n      <td>-86.9023</td>\n      <td>4903185.0</td>\n    </tr>\n    <tr>\n      <th>2</th>\n      <td>296</td>\n      <td>84000001</td>\n      <td>210637</td>\n      <td>88038.0</td>\n      <td>3213.0</td>\n      <td>4295.921936</td>\n      <td>28993.195239</td>\n      <td>NaN</td>\n      <td>2020-11-12</td>\n      <td>2020</td>\n      <td>11</td>\n      <td>3</td>\n      <td>12</td>\n      <td>US</td>\n      <td>Alabama</td>\n      <td>None</td>\n      <td>32.3182</td>\n      <td>-86.9023</td>\n      <td>4903185.0</td>\n    </tr>\n    <tr>\n      <th>3</th>\n      <td>138</td>\n      <td>84000001</td>\n      <td>20777</td>\n      <td>11395.0</td>\n      <td>692.0</td>\n      <td>418.095585</td>\n      <td>5293.824320</td>\n      <td>9.863415</td>\n      <td>2020-06-07</td>\n      <td>2020</td>\n      <td>6</td>\n      <td>6</td>\n      <td>7</td>\n      <td>US</td>\n      <td>Alabama</td>\n      <td>None</td>\n      <td>32.3182</td>\n      <td>-86.9023</td>\n      <td>4903185.0</td>\n    </tr>\n    <tr>\n      <th>4</th>\n      <td>274</td>\n      <td>84000001</td>\n      <td>176605</td>\n      <td>74439.0</td>\n      <td>2828.0</td>\n      <td>3582.854818</td>\n      <td>25973.382607</td>\n      <td>NaN</td>\n      <td>2020-10-21</td>\n      <td>2020</td>\n      <td>10</td>\n      <td>2</td>\n      <td>21</td>\n      <td>US</td>\n      <td>Alabama</td>\n      <td>None</td>\n      <td>32.3182</td>\n      <td>-86.9023</td>\n      <td>4903185.0</td>\n    </tr>\n  </tbody>\n</table>\n</div>"
     },
     "metadata": {},
     "execution_count": 16
    }
   ],
   "source": [
    "us_df.head()"
   ]
  },
  {
   "cell_type": "code",
   "execution_count": null,
   "metadata": {},
   "outputs": [],
   "source": []
  }
 ]
}