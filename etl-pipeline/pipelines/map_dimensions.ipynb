{
 "metadata": {
  "language_info": {
   "codemirror_mode": {
    "name": "ipython",
    "version": 3
   },
   "file_extension": ".py",
   "mimetype": "text/x-python",
   "name": "python",
   "nbconvert_exporter": "python",
   "pygments_lexer": "ipython3",
   "version": "3.8.6-final"
  },
  "orig_nbformat": 2,
  "kernelspec": {
   "name": "python3",
   "display_name": "Python 3"
  }
 },
 "nbformat": 4,
 "nbformat_minor": 2,
 "cells": [
  {
   "cell_type": "code",
   "execution_count": 1,
   "metadata": {},
   "outputs": [],
   "source": [
    "import os\n",
    "import sys\n",
    "import pandas as pd\n",
    "\n",
    "from datetime import date\n",
    "import covid_etl as transforms"
   ]
  },
  {
   "cell_type": "code",
   "execution_count": 2,
   "metadata": {},
   "outputs": [
    {
     "output_type": "stream",
     "name": "stdout",
     "text": [
      "Locations File: /Users/adammcquistan/code/ambassador/COVID-19/csse_covid_19_data/UID_ISO_FIPS_LookUp_Table.csv\n"
     ]
    }
   ],
   "source": [
    "LOCATIONS_PATH = os.path.join(os.path.abspath('../../../'),\n",
    "                        'COVID-19',\n",
    "                        'csse_covid_19_data',\n",
    "                        'UID_ISO_FIPS_LookUp_Table.csv')\n",
    "print(\"Locations File: \" + LOCATIONS_PATH)"
   ]
  },
  {
   "cell_type": "code",
   "execution_count": 3,
   "metadata": {},
   "outputs": [
    {
     "output_type": "stream",
     "name": "stdout",
     "text": [
      "Output Dir: /Users/adammcquistan/code/ambassador/COVID-19-TRANSFORMED\n"
     ]
    }
   ],
   "source": [
    "TRANSFORMED_DATA_DIR = os.path.join(os.path.abspath('../../../'), 'COVID-19-TRANSFORMED')\n",
    "\n",
    "print(\"Output Dir: \" + TRANSFORMED_DATA_DIR)"
   ]
  },
  {
   "cell_type": "code",
   "execution_count": 4,
   "metadata": {},
   "outputs": [
    {
     "output_type": "execute_result",
     "data": {
      "text/plain": [
       "   UID iso2 iso3  code3  FIPS Admin2 Province_State Country_Region       Lat  \\\n",
       "0    4   AF  AFG    4.0   NaN    NaN            NaN    Afghanistan  33.93911   \n",
       "1    8   AL  ALB    8.0   NaN    NaN            NaN        Albania  41.15330   \n",
       "2   12   DZ  DZA   12.0   NaN    NaN            NaN        Algeria  28.03390   \n",
       "3   20   AD  AND   20.0   NaN    NaN            NaN        Andorra  42.50630   \n",
       "4   24   AO  AGO   24.0   NaN    NaN            NaN         Angola -11.20270   \n",
       "\n",
       "       Long_ Combined_Key  Population  \n",
       "0  67.709953  Afghanistan  38928341.0  \n",
       "1  20.168300      Albania   2877800.0  \n",
       "2   1.659600      Algeria  43851043.0  \n",
       "3   1.521800      Andorra     77265.0  \n",
       "4  17.873900       Angola  32866268.0  "
      ],
      "text/html": "<div>\n<style scoped>\n    .dataframe tbody tr th:only-of-type {\n        vertical-align: middle;\n    }\n\n    .dataframe tbody tr th {\n        vertical-align: top;\n    }\n\n    .dataframe thead th {\n        text-align: right;\n    }\n</style>\n<table border=\"1\" class=\"dataframe\">\n  <thead>\n    <tr style=\"text-align: right;\">\n      <th></th>\n      <th>UID</th>\n      <th>iso2</th>\n      <th>iso3</th>\n      <th>code3</th>\n      <th>FIPS</th>\n      <th>Admin2</th>\n      <th>Province_State</th>\n      <th>Country_Region</th>\n      <th>Lat</th>\n      <th>Long_</th>\n      <th>Combined_Key</th>\n      <th>Population</th>\n    </tr>\n  </thead>\n  <tbody>\n    <tr>\n      <th>0</th>\n      <td>4</td>\n      <td>AF</td>\n      <td>AFG</td>\n      <td>4.0</td>\n      <td>NaN</td>\n      <td>NaN</td>\n      <td>NaN</td>\n      <td>Afghanistan</td>\n      <td>33.93911</td>\n      <td>67.709953</td>\n      <td>Afghanistan</td>\n      <td>38928341.0</td>\n    </tr>\n    <tr>\n      <th>1</th>\n      <td>8</td>\n      <td>AL</td>\n      <td>ALB</td>\n      <td>8.0</td>\n      <td>NaN</td>\n      <td>NaN</td>\n      <td>NaN</td>\n      <td>Albania</td>\n      <td>41.15330</td>\n      <td>20.168300</td>\n      <td>Albania</td>\n      <td>2877800.0</td>\n    </tr>\n    <tr>\n      <th>2</th>\n      <td>12</td>\n      <td>DZ</td>\n      <td>DZA</td>\n      <td>12.0</td>\n      <td>NaN</td>\n      <td>NaN</td>\n      <td>NaN</td>\n      <td>Algeria</td>\n      <td>28.03390</td>\n      <td>1.659600</td>\n      <td>Algeria</td>\n      <td>43851043.0</td>\n    </tr>\n    <tr>\n      <th>3</th>\n      <td>20</td>\n      <td>AD</td>\n      <td>AND</td>\n      <td>20.0</td>\n      <td>NaN</td>\n      <td>NaN</td>\n      <td>NaN</td>\n      <td>Andorra</td>\n      <td>42.50630</td>\n      <td>1.521800</td>\n      <td>Andorra</td>\n      <td>77265.0</td>\n    </tr>\n    <tr>\n      <th>4</th>\n      <td>24</td>\n      <td>AO</td>\n      <td>AGO</td>\n      <td>24.0</td>\n      <td>NaN</td>\n      <td>NaN</td>\n      <td>NaN</td>\n      <td>Angola</td>\n      <td>-11.20270</td>\n      <td>17.873900</td>\n      <td>Angola</td>\n      <td>32866268.0</td>\n    </tr>\n  </tbody>\n</table>\n</div>"
     },
     "metadata": {},
     "execution_count": 4
    }
   ],
   "source": [
    "locations_df = pd.read_csv(LOCATIONS_PATH)\n",
    "locations_df.head()"
   ]
  },
  {
   "cell_type": "code",
   "execution_count": 5,
   "metadata": {},
   "outputs": [],
   "source": [
    "lower_combined_key = locations_df.Combined_Key.str.lower().values"
   ]
  },
  {
   "cell_type": "code",
   "execution_count": 6,
   "metadata": {},
   "outputs": [],
   "source": [
    "locations_df = locations_df.set_index(lower_combined_key)"
   ]
  },
  {
   "cell_type": "code",
   "execution_count": 7,
   "metadata": {},
   "outputs": [
    {
     "output_type": "execute_result",
     "data": {
      "text/plain": [
       "            date_id        date  year  month  day_of_month  day_of_year  \\\n",
       "2020-01-22        1  2020-01-22  2020      1            22           22   \n",
       "2020-01-23        2  2020-01-23  2020      1            23           23   \n",
       "2020-01-24        3  2020-01-24  2020      1            24           24   \n",
       "2020-01-25        4  2020-01-25  2020      1            25           25   \n",
       "2020-01-26        5  2020-01-26  2020      1            26           26   \n",
       "\n",
       "            weekday  \n",
       "2020-01-22        2  \n",
       "2020-01-23        3  \n",
       "2020-01-24        4  \n",
       "2020-01-25        5  \n",
       "2020-01-26        6  "
      ],
      "text/html": "<div>\n<style scoped>\n    .dataframe tbody tr th:only-of-type {\n        vertical-align: middle;\n    }\n\n    .dataframe tbody tr th {\n        vertical-align: top;\n    }\n\n    .dataframe thead th {\n        text-align: right;\n    }\n</style>\n<table border=\"1\" class=\"dataframe\">\n  <thead>\n    <tr style=\"text-align: right;\">\n      <th></th>\n      <th>date_id</th>\n      <th>date</th>\n      <th>year</th>\n      <th>month</th>\n      <th>day_of_month</th>\n      <th>day_of_year</th>\n      <th>weekday</th>\n    </tr>\n  </thead>\n  <tbody>\n    <tr>\n      <th>2020-01-22</th>\n      <td>1</td>\n      <td>2020-01-22</td>\n      <td>2020</td>\n      <td>1</td>\n      <td>22</td>\n      <td>22</td>\n      <td>2</td>\n    </tr>\n    <tr>\n      <th>2020-01-23</th>\n      <td>2</td>\n      <td>2020-01-23</td>\n      <td>2020</td>\n      <td>1</td>\n      <td>23</td>\n      <td>23</td>\n      <td>3</td>\n    </tr>\n    <tr>\n      <th>2020-01-24</th>\n      <td>3</td>\n      <td>2020-01-24</td>\n      <td>2020</td>\n      <td>1</td>\n      <td>24</td>\n      <td>24</td>\n      <td>4</td>\n    </tr>\n    <tr>\n      <th>2020-01-25</th>\n      <td>4</td>\n      <td>2020-01-25</td>\n      <td>2020</td>\n      <td>1</td>\n      <td>25</td>\n      <td>25</td>\n      <td>5</td>\n    </tr>\n    <tr>\n      <th>2020-01-26</th>\n      <td>5</td>\n      <td>2020-01-26</td>\n      <td>2020</td>\n      <td>1</td>\n      <td>26</td>\n      <td>26</td>\n      <td>6</td>\n    </tr>\n  </tbody>\n</table>\n</div>"
     },
     "metadata": {},
     "execution_count": 7
    }
   ],
   "source": [
    "date_df = transforms.make_date_dims(transforms.COVID_DATA_START_DATE)\n",
    "date_df.head()"
   ]
  },
  {
   "cell_type": "code",
   "execution_count": 8,
   "metadata": {
    "tags": []
   },
   "outputs": [],
   "source": [
    "files = [f for f in os.listdir(TRANSFORMED_DATA_DIR) \n",
    "         if f.startswith('transformed_')]\n",
    "\n",
    "for f in files:\n",
    "    file_path = os.path.join(TRANSFORMED_DATA_DIR, f)\n",
    "    df = pd.read_csv(file_path)\n",
    "\n",
    "    # date date_id column of df based off date column values\n",
    "    df[transforms.DATE_ID_HEADER] = [date_df.loc[ds, 'date_id']\n",
    "                                    for ds in df[transforms.DATE_HEADER]]\n",
    "\n",
    "    df[transforms.LOCATION_ID_HEADER] = df[transforms.UID_HEADER].values\n",
    "    \n",
    "\n",
    "    for idx, row in df.loc[pd.isnull(df[transforms.UID_HEADER])].iterrows():\n",
    "        if pd.notnull(row[transforms.FIPS_HEADER]) and int(row[transforms.FIPS_HEADER]) in locations_df.FIPS.values:\n",
    "            loc_row = locations_df.loc[locations_df.FIPS == int(row[transforms.FIPS_HEADER])]\n",
    "            df.loc[idx, transforms.LOCATION_ID_HEADER] = int(loc_row.UID)\n",
    "        elif str(row[transforms.COMBINED_HEADER]) in locations_df.index.values:\n",
    "            loc_row = locations_df.loc[row[transforms.COMBINED_HEADER]]\n",
    "            df.loc[idx, transforms.LOCATION_ID_HEADER] = int(loc_row.UID)\n",
    "        \n",
    "    df2 = df.loc[pd.notnull(df[transforms.LOCATION_ID_HEADER])]\n",
    "    if not df2.shape[0]:\n",
    "        print('File {} will have not data'.format(f))\n",
    "        print(df2.head())\n",
    "        sys.exit(1)\n",
    "    else:\n",
    "        loadable_path = os.path.join(TRANSFORMED_DATA_DIR,\n",
    "                                    f.replace('transformed_', 'loadable_'))\n",
    "        df2[transforms.load_headers].to_csv(loadable_path, index=False)\n"
   ]
  },
  {
   "cell_type": "code",
   "execution_count": 9,
   "metadata": {},
   "outputs": [],
   "source": [
    "date_df.to_csv(os.path.join(TRANSFORMED_DATA_DIR, \n",
    "                            'loadable_dates.csv'),\n",
    "               index=False)\n"
   ]
  },
  {
   "cell_type": "code",
   "execution_count": 10,
   "metadata": {},
   "outputs": [],
   "source": [
    "locations_df['city'] = locations_df.Combined_Key.apply(transforms.parse_city_from_combined_key)"
   ]
  },
  {
   "cell_type": "code",
   "execution_count": 12,
   "metadata": {},
   "outputs": [],
   "source": [
    "locations_df = locations_df.rename(columns={\n",
    "    'UID': 'location_id',\n",
    "    'Province_State': 'state',\n",
    "    'Country_Region': 'country',\n",
    "    'Lat': transforms.LATITUDE_HEADER,\n",
    "    'Long_': transforms.LONGITUDE_HEADER,\n",
    "    'Population': 'population'\n",
    "})\n",
    "\n",
    "keep_columns = [\n",
    "    'location_id',\n",
    "    'country',\n",
    "    'state',\n",
    "    'city',\n",
    "    transforms.LATITUDE_HEADER,\n",
    "    transforms.LONGITUDE_HEADER,\n",
    "    'population'\n",
    "]\n",
    "locations_df = locations_df[keep_columns]"
   ]
  },
  {
   "cell_type": "code",
   "execution_count": 13,
   "metadata": {},
   "outputs": [],
   "source": [
    "locations_df.to_csv(os.path.join(TRANSFORMED_DATA_DIR, \n",
    "                                'loadable_locations.csv'),\n",
    "                    index=False)"
   ]
  },
  {
   "cell_type": "code",
   "execution_count": null,
   "metadata": {},
   "outputs": [],
   "source": []
  }
 ]
}